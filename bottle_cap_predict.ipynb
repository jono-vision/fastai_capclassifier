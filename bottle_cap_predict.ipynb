{
  "nbformat": 4,
  "nbformat_minor": 0,
  "metadata": {
    "colab": {
      "name": "bottle_cap_predict.ipynb",
      "provenance": [],
      "authorship_tag": "ABX9TyMpBbGWDHsSo3uHRwnltm/l",
      "include_colab_link": true
    },
    "kernelspec": {
      "name": "python3",
      "display_name": "Python 3"
    },
    "widgets": {
      "application/vnd.jupyter.widget-state+json": {
        "40c6251e526646f686bf2687b8a260a8": {
          "model_module": "@jupyter-widgets/controls",
          "model_name": "VBoxModel",
          "state": {
            "_view_name": "VBoxView",
            "_dom_classes": [],
            "_model_name": "VBoxModel",
            "_view_module": "@jupyter-widgets/controls",
            "_model_module_version": "1.5.0",
            "_view_count": null,
            "_view_module_version": "1.5.0",
            "box_style": "",
            "layout": "IPY_MODEL_97afc7d8f1124cfaa4b22ba27042e29c",
            "_model_module": "@jupyter-widgets/controls",
            "children": [
              "IPY_MODEL_8f34b1d57c1542908fe7beabc8ab6619",
              "IPY_MODEL_202af4921cd641b688145d8667239d98",
              "IPY_MODEL_8781ec0249d144508e45a3ec4b9d50fd",
              "IPY_MODEL_e99b90e5a5e24e808528dc7f38056e92"
            ]
          }
        },
        "97afc7d8f1124cfaa4b22ba27042e29c": {
          "model_module": "@jupyter-widgets/base",
          "model_name": "LayoutModel",
          "state": {
            "_view_name": "LayoutView",
            "grid_template_rows": null,
            "right": null,
            "justify_content": null,
            "_view_module": "@jupyter-widgets/base",
            "overflow": null,
            "_model_module_version": "1.2.0",
            "_view_count": null,
            "flex_flow": null,
            "width": null,
            "min_width": null,
            "border": null,
            "align_items": null,
            "bottom": null,
            "_model_module": "@jupyter-widgets/base",
            "top": null,
            "grid_column": null,
            "overflow_y": null,
            "overflow_x": null,
            "grid_auto_flow": null,
            "grid_area": null,
            "grid_template_columns": null,
            "flex": null,
            "_model_name": "LayoutModel",
            "justify_items": null,
            "grid_row": null,
            "max_height": null,
            "align_content": null,
            "visibility": null,
            "align_self": null,
            "height": null,
            "min_height": null,
            "padding": null,
            "grid_auto_rows": null,
            "grid_gap": null,
            "max_width": null,
            "order": null,
            "_view_module_version": "1.2.0",
            "grid_template_areas": null,
            "object_position": null,
            "object_fit": null,
            "grid_auto_columns": null,
            "margin": null,
            "display": null,
            "left": null
          }
        },
        "8f34b1d57c1542908fe7beabc8ab6619": {
          "model_module": "@jupyter-widgets/controls",
          "model_name": "LabelModel",
          "state": {
            "_view_name": "LabelView",
            "style": "IPY_MODEL_8551914ce9124c22a9a124b67a7ae20a",
            "_dom_classes": [],
            "description": "",
            "_model_name": "LabelModel",
            "placeholder": "​",
            "_view_module": "@jupyter-widgets/controls",
            "_model_module_version": "1.5.0",
            "value": "Select your cap",
            "_view_count": null,
            "_view_module_version": "1.5.0",
            "description_tooltip": null,
            "_model_module": "@jupyter-widgets/controls",
            "layout": "IPY_MODEL_509805b9437e4ce6850cbb98f7bc4c32"
          }
        },
        "202af4921cd641b688145d8667239d98": {
          "model_module": "@jupyter-widgets/controls",
          "model_name": "FileUploadModel",
          "state": {
            "_view_name": "FileUploadView",
            "_counter": 1,
            "style": "IPY_MODEL_aefb03dc2c7b494ba9eac5c532951c1b",
            "_dom_classes": [],
            "description": "Upload",
            "multiple": false,
            "_model_name": "FileUploadModel",
            "data": [
              null
            ],
            "button_style": "",
            "_view_module": "@jupyter-widgets/controls",
            "_model_module_version": "1.5.0",
            "accept": "",
            "_view_count": null,
            "disabled": false,
            "_view_module_version": "1.5.0",
            "error": "",
            "description_tooltip": null,
            "metadata": [
              {
                "name": "IMG_20201026_164128.jpg",
                "type": "image/jpeg",
                "size": 1804988,
                "lastModified": 1603752088000
              }
            ],
            "_model_module": "@jupyter-widgets/controls",
            "layout": "IPY_MODEL_86b632f6834f4b219e4c9fe30832b50e",
            "icon": "upload"
          }
        },
        "8781ec0249d144508e45a3ec4b9d50fd": {
          "model_module": "@jupyter-widgets/output",
          "model_name": "OutputModel",
          "state": {
            "_view_name": "OutputView",
            "msg_id": "",
            "_dom_classes": [],
            "_model_name": "OutputModel",
            "outputs": [
              {
                "output_type": "display_data",
                "metadata": {
                  "tags": []
                },
                "image/png": "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\n",
                "text/plain": "<PIL.Image.Image image mode=RGB size=128x96 at 0x7F40F64CA3C8>"
              }
            ],
            "_view_module": "@jupyter-widgets/output",
            "_model_module_version": "1.0.0",
            "_view_count": null,
            "_view_module_version": "1.0.0",
            "layout": "IPY_MODEL_45db8238ebcf4129aa71562418f17a39",
            "_model_module": "@jupyter-widgets/output"
          }
        },
        "e99b90e5a5e24e808528dc7f38056e92": {
          "model_module": "@jupyter-widgets/controls",
          "model_name": "LabelModel",
          "state": {
            "_view_name": "LabelView",
            "style": "IPY_MODEL_9f483ab1ada541bc898bb153f26cb353",
            "_dom_classes": [],
            "description": "",
            "_model_name": "LabelModel",
            "placeholder": "​",
            "_view_module": "@jupyter-widgets/controls",
            "_model_module_version": "1.5.0",
            "value": "Prediction: white; Probability: 0.5262",
            "_view_count": null,
            "_view_module_version": "1.5.0",
            "description_tooltip": null,
            "_model_module": "@jupyter-widgets/controls",
            "layout": "IPY_MODEL_fbeac2b4f67a44709b184e5206d9d22a"
          }
        },
        "8551914ce9124c22a9a124b67a7ae20a": {
          "model_module": "@jupyter-widgets/controls",
          "model_name": "DescriptionStyleModel",
          "state": {
            "_view_name": "StyleView",
            "_model_name": "DescriptionStyleModel",
            "description_width": "",
            "_view_module": "@jupyter-widgets/base",
            "_model_module_version": "1.5.0",
            "_view_count": null,
            "_view_module_version": "1.2.0",
            "_model_module": "@jupyter-widgets/controls"
          }
        },
        "509805b9437e4ce6850cbb98f7bc4c32": {
          "model_module": "@jupyter-widgets/base",
          "model_name": "LayoutModel",
          "state": {
            "_view_name": "LayoutView",
            "grid_template_rows": null,
            "right": null,
            "justify_content": null,
            "_view_module": "@jupyter-widgets/base",
            "overflow": null,
            "_model_module_version": "1.2.0",
            "_view_count": null,
            "flex_flow": null,
            "width": null,
            "min_width": null,
            "border": null,
            "align_items": null,
            "bottom": null,
            "_model_module": "@jupyter-widgets/base",
            "top": null,
            "grid_column": null,
            "overflow_y": null,
            "overflow_x": null,
            "grid_auto_flow": null,
            "grid_area": null,
            "grid_template_columns": null,
            "flex": null,
            "_model_name": "LayoutModel",
            "justify_items": null,
            "grid_row": null,
            "max_height": null,
            "align_content": null,
            "visibility": null,
            "align_self": null,
            "height": null,
            "min_height": null,
            "padding": null,
            "grid_auto_rows": null,
            "grid_gap": null,
            "max_width": null,
            "order": null,
            "_view_module_version": "1.2.0",
            "grid_template_areas": null,
            "object_position": null,
            "object_fit": null,
            "grid_auto_columns": null,
            "margin": null,
            "display": null,
            "left": null
          }
        },
        "aefb03dc2c7b494ba9eac5c532951c1b": {
          "model_module": "@jupyter-widgets/controls",
          "model_name": "ButtonStyleModel",
          "state": {
            "_view_name": "StyleView",
            "_model_name": "ButtonStyleModel",
            "_view_module": "@jupyter-widgets/base",
            "_model_module_version": "1.5.0",
            "_view_count": null,
            "button_color": null,
            "font_weight": "",
            "_view_module_version": "1.2.0",
            "_model_module": "@jupyter-widgets/controls"
          }
        },
        "86b632f6834f4b219e4c9fe30832b50e": {
          "model_module": "@jupyter-widgets/base",
          "model_name": "LayoutModel",
          "state": {
            "_view_name": "LayoutView",
            "grid_template_rows": null,
            "right": null,
            "justify_content": null,
            "_view_module": "@jupyter-widgets/base",
            "overflow": null,
            "_model_module_version": "1.2.0",
            "_view_count": null,
            "flex_flow": null,
            "width": null,
            "min_width": null,
            "border": null,
            "align_items": null,
            "bottom": null,
            "_model_module": "@jupyter-widgets/base",
            "top": null,
            "grid_column": null,
            "overflow_y": null,
            "overflow_x": null,
            "grid_auto_flow": null,
            "grid_area": null,
            "grid_template_columns": null,
            "flex": null,
            "_model_name": "LayoutModel",
            "justify_items": null,
            "grid_row": null,
            "max_height": null,
            "align_content": null,
            "visibility": null,
            "align_self": null,
            "height": null,
            "min_height": null,
            "padding": null,
            "grid_auto_rows": null,
            "grid_gap": null,
            "max_width": null,
            "order": null,
            "_view_module_version": "1.2.0",
            "grid_template_areas": null,
            "object_position": null,
            "object_fit": null,
            "grid_auto_columns": null,
            "margin": null,
            "display": null,
            "left": null
          }
        },
        "9f483ab1ada541bc898bb153f26cb353": {
          "model_module": "@jupyter-widgets/controls",
          "model_name": "DescriptionStyleModel",
          "state": {
            "_view_name": "StyleView",
            "_model_name": "DescriptionStyleModel",
            "description_width": "",
            "_view_module": "@jupyter-widgets/base",
            "_model_module_version": "1.5.0",
            "_view_count": null,
            "_view_module_version": "1.2.0",
            "_model_module": "@jupyter-widgets/controls"
          }
        },
        "fbeac2b4f67a44709b184e5206d9d22a": {
          "model_module": "@jupyter-widgets/base",
          "model_name": "LayoutModel",
          "state": {
            "_view_name": "LayoutView",
            "grid_template_rows": null,
            "right": null,
            "justify_content": null,
            "_view_module": "@jupyter-widgets/base",
            "overflow": null,
            "_model_module_version": "1.2.0",
            "_view_count": null,
            "flex_flow": null,
            "width": null,
            "min_width": null,
            "border": null,
            "align_items": null,
            "bottom": null,
            "_model_module": "@jupyter-widgets/base",
            "top": null,
            "grid_column": null,
            "overflow_y": null,
            "overflow_x": null,
            "grid_auto_flow": null,
            "grid_area": null,
            "grid_template_columns": null,
            "flex": null,
            "_model_name": "LayoutModel",
            "justify_items": null,
            "grid_row": null,
            "max_height": null,
            "align_content": null,
            "visibility": null,
            "align_self": null,
            "height": null,
            "min_height": null,
            "padding": null,
            "grid_auto_rows": null,
            "grid_gap": null,
            "max_width": null,
            "order": null,
            "_view_module_version": "1.2.0",
            "grid_template_areas": null,
            "object_position": null,
            "object_fit": null,
            "grid_auto_columns": null,
            "margin": null,
            "display": null,
            "left": null
          }
        },
        "45db8238ebcf4129aa71562418f17a39": {
          "model_module": "@jupyter-widgets/base",
          "model_name": "LayoutModel",
          "state": {
            "_view_name": "LayoutView",
            "grid_template_rows": null,
            "right": null,
            "justify_content": null,
            "_view_module": "@jupyter-widgets/base",
            "overflow": null,
            "_model_module_version": "1.2.0",
            "_view_count": null,
            "flex_flow": null,
            "width": null,
            "min_width": null,
            "border": null,
            "align_items": null,
            "bottom": null,
            "_model_module": "@jupyter-widgets/base",
            "top": null,
            "grid_column": null,
            "overflow_y": null,
            "overflow_x": null,
            "grid_auto_flow": null,
            "grid_area": null,
            "grid_template_columns": null,
            "flex": null,
            "_model_name": "LayoutModel",
            "justify_items": null,
            "grid_row": null,
            "max_height": null,
            "align_content": null,
            "visibility": null,
            "align_self": null,
            "height": null,
            "min_height": null,
            "padding": null,
            "grid_auto_rows": null,
            "grid_gap": null,
            "max_width": null,
            "order": null,
            "_view_module_version": "1.2.0",
            "grid_template_areas": null,
            "object_position": null,
            "object_fit": null,
            "grid_auto_columns": null,
            "margin": null,
            "display": null,
            "left": null
          }
        }
      }
    }
  },
  "cells": [
    {
      "cell_type": "markdown",
      "metadata": {
        "id": "view-in-github",
        "colab_type": "text"
      },
      "source": [
        "<a href=\"https://colab.research.google.com/github/jono-vision/fastai_capclassifier/blob/main/bottle_cap_predict.ipynb\" target=\"_parent\"><img src=\"https://colab.research.google.com/assets/colab-badge.svg\" alt=\"Open In Colab\"/></a>"
      ]
    },
    {
      "cell_type": "code",
      "metadata": {
        "id": "MME3ITuHMu99"
      },
      "source": [
        "# !pip install voila\n",
        "# !jupyter serverextension enable voila --sys-prefix\n",
        "\n",
        "# !pip install -Uqq fastbook\n",
        "import fastbook\n",
        "fastbook.setup_book()\n",
        "\n",
        "from fastbook import *\n",
        "from fastai.vision.widgets import *"
      ],
      "execution_count": 45,
      "outputs": []
    },
    {
      "cell_type": "code",
      "metadata": {
        "id": "9CeJEpSTclKm"
      },
      "source": [
        "# !pip install nbconvert>=6.0.0"
      ],
      "execution_count": 39,
      "outputs": []
    },
    {
      "cell_type": "code",
      "metadata": {
        "id": "T5Lu7tGUNy3u"
      },
      "source": [
        "# from pathlib import Path\n",
        "path = Path #.cwd()/'gdrive'/'My Drive'/'Colab Notebooks'"
      ],
      "execution_count": 46,
      "outputs": []
    },
    {
      "cell_type": "code",
      "metadata": {
        "id": "EUAh1wTzMvqH",
        "outputId": "bb365c28-613a-4ca0-c9da-1f38244e72dd",
        "colab": {
          "base_uri": "https://localhost:8080/",
          "height": 164
        }
      },
      "source": [
        "learn_inf = load_learner(path/'bottle.pkl',cpu=True)"
      ],
      "execution_count": 47,
      "outputs": [
        {
          "output_type": "error",
          "ename": "TypeError",
          "evalue": "ignored",
          "traceback": [
            "\u001b[0;31m---------------------------------------------------------------------------\u001b[0m",
            "\u001b[0;31mTypeError\u001b[0m                                 Traceback (most recent call last)",
            "\u001b[0;32m<ipython-input-47-d03cb55b4f06>\u001b[0m in \u001b[0;36m<module>\u001b[0;34m()\u001b[0m\n\u001b[0;32m----> 1\u001b[0;31m \u001b[0mlearn_inf\u001b[0m \u001b[0;34m=\u001b[0m \u001b[0mload_learner\u001b[0m\u001b[0;34m(\u001b[0m\u001b[0mpath\u001b[0m\u001b[0;34m/\u001b[0m\u001b[0;34m'bottle.pkl'\u001b[0m\u001b[0;34m,\u001b[0m\u001b[0mcpu\u001b[0m\u001b[0;34m=\u001b[0m\u001b[0;32mTrue\u001b[0m\u001b[0;34m)\u001b[0m\u001b[0;34m\u001b[0m\u001b[0;34m\u001b[0m\u001b[0m\n\u001b[0m",
            "\u001b[0;31mTypeError\u001b[0m: unsupported operand type(s) for /: 'type' and 'str'"
          ]
        }
      ]
    },
    {
      "cell_type": "code",
      "metadata": {
        "id": "frT9qmHfZ_zq"
      },
      "source": [
        "out_pl = widgets.Output()\n",
        "btn_upload = widgets.FileUpload()\n",
        "btn_run = widgets.Button(description='Classify')\n",
        "lbl_pred = widgets.Label()"
      ],
      "execution_count": 42,
      "outputs": []
    },
    {
      "cell_type": "code",
      "metadata": {
        "id": "cAziPQg8aSFU"
      },
      "source": [
        "def on_click_classify(change):\n",
        "    lbl_pred.value = ''\n",
        "    img = PILImage.create(btn_upload.data[-1])\n",
        "    out_pl.clear_output()\n",
        "    with out_pl: display(img.to_thumb(128,128))\n",
        "    pred,pred_idx,probs = learn_inf.predict(img)\n",
        "    lbl_pred.value = f'Prediction: {pred}; Probability: {probs[pred_idx]:.04f}'\n",
        "\n",
        "btn_upload.observe(on_click_classify,names=['data'])"
      ],
      "execution_count": 43,
      "outputs": []
    },
    {
      "cell_type": "code",
      "metadata": {
        "id": "fs24S8vAajX0",
        "outputId": "79dc7d56-c74b-4bc2-ecf0-54b64c1a7ae5",
        "colab": {
          "base_uri": "https://localhost:8080/",
          "height": 209,
          "referenced_widgets": [
            "40c6251e526646f686bf2687b8a260a8",
            "97afc7d8f1124cfaa4b22ba27042e29c",
            "8f34b1d57c1542908fe7beabc8ab6619",
            "202af4921cd641b688145d8667239d98",
            "8781ec0249d144508e45a3ec4b9d50fd",
            "e99b90e5a5e24e808528dc7f38056e92",
            "8551914ce9124c22a9a124b67a7ae20a",
            "509805b9437e4ce6850cbb98f7bc4c32",
            "aefb03dc2c7b494ba9eac5c532951c1b",
            "86b632f6834f4b219e4c9fe30832b50e",
            "9f483ab1ada541bc898bb153f26cb353",
            "fbeac2b4f67a44709b184e5206d9d22a",
            "45db8238ebcf4129aa71562418f17a39"
          ]
        }
      },
      "source": [
        "VBox([widgets.Label('Select your cap'), \n",
        "      btn_upload, out_pl, lbl_pred])"
      ],
      "execution_count": 44,
      "outputs": [
        {
          "output_type": "display_data",
          "data": {
            "application/vnd.jupyter.widget-view+json": {
              "model_id": "40c6251e526646f686bf2687b8a260a8",
              "version_minor": 0,
              "version_major": 2
            },
            "text/plain": [
              "VBox(children=(Label(value='Select your cap'), FileUpload(value={}, description='Upload'), Output(), Label(val…"
            ]
          },
          "metadata": {
            "tags": []
          }
        },
        {
          "output_type": "display_data",
          "data": {
            "text/html": [
              ""
            ],
            "text/plain": [
              "<IPython.core.display.HTML object>"
            ]
          },
          "metadata": {
            "tags": []
          }
        }
      ]
    }
  ]
}