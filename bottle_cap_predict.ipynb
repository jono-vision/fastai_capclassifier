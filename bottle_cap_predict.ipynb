{
  "nbformat": 4,
  "nbformat_minor": 0,
  "metadata": {
    "colab": {
      "name": "bottle_cap_predict.ipynb",
      "provenance": [],
      "authorship_tag": "ABX9TyO7mrbTXtZZlRLK089TR+de",
      "include_colab_link": true
    },
    "kernelspec": {
      "name": "python3",
      "display_name": "Python 3"
    },
    "widgets": {
      "application/vnd.jupyter.widget-state+json": {
        "841191c5e6fd4f44abd143e538f456d5": {
          "model_module": "@jupyter-widgets/controls",
          "model_name": "VBoxModel",
          "state": {
            "_view_name": "VBoxView",
            "_dom_classes": [],
            "_model_name": "VBoxModel",
            "_view_module": "@jupyter-widgets/controls",
            "_model_module_version": "1.5.0",
            "_view_count": null,
            "_view_module_version": "1.5.0",
            "box_style": "",
            "layout": "IPY_MODEL_97325ee5e0cf48589468480ba7dc1791",
            "_model_module": "@jupyter-widgets/controls",
            "children": [
              "IPY_MODEL_01fb88b5486845b29e8992017ee5ea1b",
              "IPY_MODEL_2f277198b2a647b7aad40a7c367b989e",
              "IPY_MODEL_d52d4d707e7a4c00b2150275e6d9004c",
              "IPY_MODEL_4efc6a0f927f4d169d43d882ce350dbd",
              "IPY_MODEL_c063ef9e534d49f383cee42e7fa18910"
            ]
          }
        },
        "97325ee5e0cf48589468480ba7dc1791": {
          "model_module": "@jupyter-widgets/base",
          "model_name": "LayoutModel",
          "state": {
            "_view_name": "LayoutView",
            "grid_template_rows": null,
            "right": null,
            "justify_content": null,
            "_view_module": "@jupyter-widgets/base",
            "overflow": null,
            "_model_module_version": "1.2.0",
            "_view_count": null,
            "flex_flow": null,
            "width": null,
            "min_width": null,
            "border": null,
            "align_items": null,
            "bottom": null,
            "_model_module": "@jupyter-widgets/base",
            "top": null,
            "grid_column": null,
            "overflow_y": null,
            "overflow_x": null,
            "grid_auto_flow": null,
            "grid_area": null,
            "grid_template_columns": null,
            "flex": null,
            "_model_name": "LayoutModel",
            "justify_items": null,
            "grid_row": null,
            "max_height": null,
            "align_content": null,
            "visibility": null,
            "align_self": null,
            "height": null,
            "min_height": null,
            "padding": null,
            "grid_auto_rows": null,
            "grid_gap": null,
            "max_width": null,
            "order": null,
            "_view_module_version": "1.2.0",
            "grid_template_areas": null,
            "object_position": null,
            "object_fit": null,
            "grid_auto_columns": null,
            "margin": null,
            "display": null,
            "left": null
          }
        },
        "01fb88b5486845b29e8992017ee5ea1b": {
          "model_module": "@jupyter-widgets/controls",
          "model_name": "LabelModel",
          "state": {
            "_view_name": "LabelView",
            "style": "IPY_MODEL_2a9aa865c4d44059918c95e404371f70",
            "_dom_classes": [],
            "description": "",
            "_model_name": "LabelModel",
            "placeholder": "​",
            "_view_module": "@jupyter-widgets/controls",
            "_model_module_version": "1.5.0",
            "value": "Select your cap",
            "_view_count": null,
            "_view_module_version": "1.5.0",
            "description_tooltip": null,
            "_model_module": "@jupyter-widgets/controls",
            "layout": "IPY_MODEL_f6c1e457bfd4466da1de5e4c87fc8e23"
          }
        },
        "2f277198b2a647b7aad40a7c367b989e": {
          "model_module": "@jupyter-widgets/controls",
          "model_name": "FileUploadModel",
          "state": {
            "_view_name": "FileUploadView",
            "_counter": 1,
            "style": "IPY_MODEL_5e17b3908ff4444fb0417e8560ebb502",
            "_dom_classes": [],
            "description": "Upload",
            "multiple": false,
            "_model_name": "FileUploadModel",
            "data": [
              null
            ],
            "button_style": "",
            "_view_module": "@jupyter-widgets/controls",
            "_model_module_version": "1.5.0",
            "accept": "",
            "_view_count": null,
            "disabled": false,
            "_view_module_version": "1.5.0",
            "error": "",
            "description_tooltip": null,
            "metadata": [
              {
                "name": "IMG_20201026_164144.jpg",
                "type": "image/jpeg",
                "size": 1780643,
                "lastModified": 1603752104000
              }
            ],
            "_model_module": "@jupyter-widgets/controls",
            "layout": "IPY_MODEL_fcd9c3d351634673b6266cc24469a94e",
            "icon": "upload"
          }
        },
        "d52d4d707e7a4c00b2150275e6d9004c": {
          "model_module": "@jupyter-widgets/controls",
          "model_name": "ButtonModel",
          "state": {
            "_view_name": "ButtonView",
            "style": "IPY_MODEL_d08257c790654a14a2b131b10c4343c5",
            "_dom_classes": [],
            "description": "Classify",
            "_model_name": "ButtonModel",
            "button_style": "",
            "_view_module": "@jupyter-widgets/controls",
            "_model_module_version": "1.5.0",
            "tooltip": "",
            "_view_count": null,
            "disabled": false,
            "_view_module_version": "1.5.0",
            "layout": "IPY_MODEL_cdad1f499d1b44298b52319754a2f826",
            "_model_module": "@jupyter-widgets/controls",
            "icon": ""
          }
        },
        "4efc6a0f927f4d169d43d882ce350dbd": {
          "model_module": "@jupyter-widgets/output",
          "model_name": "OutputModel",
          "state": {
            "_view_name": "OutputView",
            "msg_id": "",
            "_dom_classes": [],
            "_model_name": "OutputModel",
            "outputs": [
              {
                "output_type": "display_data",
                "metadata": {
                  "tags": []
                },
                "image/png": "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\n",
                "text/plain": "<PIL.Image.Image image mode=RGB size=128x96 at 0x7F40FEC13F98>"
              }
            ],
            "_view_module": "@jupyter-widgets/output",
            "_model_module_version": "1.0.0",
            "_view_count": null,
            "_view_module_version": "1.0.0",
            "layout": "IPY_MODEL_3cbfc558ab134fa6a90c05ed60a884c7",
            "_model_module": "@jupyter-widgets/output"
          }
        },
        "c063ef9e534d49f383cee42e7fa18910": {
          "model_module": "@jupyter-widgets/controls",
          "model_name": "LabelModel",
          "state": {
            "_view_name": "LabelView",
            "style": "IPY_MODEL_199b130b748849c4861ebf6ec6543c2c",
            "_dom_classes": [],
            "description": "",
            "_model_name": "LabelModel",
            "placeholder": "​",
            "_view_module": "@jupyter-widgets/controls",
            "_model_module_version": "1.5.0",
            "value": "Prediction: yellow; Probability: 0.3315",
            "_view_count": null,
            "_view_module_version": "1.5.0",
            "description_tooltip": null,
            "_model_module": "@jupyter-widgets/controls",
            "layout": "IPY_MODEL_9b5a220b71f74d4ca941f6bf41d6f6c9"
          }
        },
        "2a9aa865c4d44059918c95e404371f70": {
          "model_module": "@jupyter-widgets/controls",
          "model_name": "DescriptionStyleModel",
          "state": {
            "_view_name": "StyleView",
            "_model_name": "DescriptionStyleModel",
            "description_width": "",
            "_view_module": "@jupyter-widgets/base",
            "_model_module_version": "1.5.0",
            "_view_count": null,
            "_view_module_version": "1.2.0",
            "_model_module": "@jupyter-widgets/controls"
          }
        },
        "f6c1e457bfd4466da1de5e4c87fc8e23": {
          "model_module": "@jupyter-widgets/base",
          "model_name": "LayoutModel",
          "state": {
            "_view_name": "LayoutView",
            "grid_template_rows": null,
            "right": null,
            "justify_content": null,
            "_view_module": "@jupyter-widgets/base",
            "overflow": null,
            "_model_module_version": "1.2.0",
            "_view_count": null,
            "flex_flow": null,
            "width": null,
            "min_width": null,
            "border": null,
            "align_items": null,
            "bottom": null,
            "_model_module": "@jupyter-widgets/base",
            "top": null,
            "grid_column": null,
            "overflow_y": null,
            "overflow_x": null,
            "grid_auto_flow": null,
            "grid_area": null,
            "grid_template_columns": null,
            "flex": null,
            "_model_name": "LayoutModel",
            "justify_items": null,
            "grid_row": null,
            "max_height": null,
            "align_content": null,
            "visibility": null,
            "align_self": null,
            "height": null,
            "min_height": null,
            "padding": null,
            "grid_auto_rows": null,
            "grid_gap": null,
            "max_width": null,
            "order": null,
            "_view_module_version": "1.2.0",
            "grid_template_areas": null,
            "object_position": null,
            "object_fit": null,
            "grid_auto_columns": null,
            "margin": null,
            "display": null,
            "left": null
          }
        },
        "5e17b3908ff4444fb0417e8560ebb502": {
          "model_module": "@jupyter-widgets/controls",
          "model_name": "ButtonStyleModel",
          "state": {
            "_view_name": "StyleView",
            "_model_name": "ButtonStyleModel",
            "_view_module": "@jupyter-widgets/base",
            "_model_module_version": "1.5.0",
            "_view_count": null,
            "button_color": null,
            "font_weight": "",
            "_view_module_version": "1.2.0",
            "_model_module": "@jupyter-widgets/controls"
          }
        },
        "fcd9c3d351634673b6266cc24469a94e": {
          "model_module": "@jupyter-widgets/base",
          "model_name": "LayoutModel",
          "state": {
            "_view_name": "LayoutView",
            "grid_template_rows": null,
            "right": null,
            "justify_content": null,
            "_view_module": "@jupyter-widgets/base",
            "overflow": null,
            "_model_module_version": "1.2.0",
            "_view_count": null,
            "flex_flow": null,
            "width": null,
            "min_width": null,
            "border": null,
            "align_items": null,
            "bottom": null,
            "_model_module": "@jupyter-widgets/base",
            "top": null,
            "grid_column": null,
            "overflow_y": null,
            "overflow_x": null,
            "grid_auto_flow": null,
            "grid_area": null,
            "grid_template_columns": null,
            "flex": null,
            "_model_name": "LayoutModel",
            "justify_items": null,
            "grid_row": null,
            "max_height": null,
            "align_content": null,
            "visibility": null,
            "align_self": null,
            "height": null,
            "min_height": null,
            "padding": null,
            "grid_auto_rows": null,
            "grid_gap": null,
            "max_width": null,
            "order": null,
            "_view_module_version": "1.2.0",
            "grid_template_areas": null,
            "object_position": null,
            "object_fit": null,
            "grid_auto_columns": null,
            "margin": null,
            "display": null,
            "left": null
          }
        },
        "d08257c790654a14a2b131b10c4343c5": {
          "model_module": "@jupyter-widgets/controls",
          "model_name": "ButtonStyleModel",
          "state": {
            "_view_name": "StyleView",
            "_model_name": "ButtonStyleModel",
            "_view_module": "@jupyter-widgets/base",
            "_model_module_version": "1.5.0",
            "_view_count": null,
            "button_color": null,
            "font_weight": "",
            "_view_module_version": "1.2.0",
            "_model_module": "@jupyter-widgets/controls"
          }
        },
        "cdad1f499d1b44298b52319754a2f826": {
          "model_module": "@jupyter-widgets/base",
          "model_name": "LayoutModel",
          "state": {
            "_view_name": "LayoutView",
            "grid_template_rows": null,
            "right": null,
            "justify_content": null,
            "_view_module": "@jupyter-widgets/base",
            "overflow": null,
            "_model_module_version": "1.2.0",
            "_view_count": null,
            "flex_flow": null,
            "width": null,
            "min_width": null,
            "border": null,
            "align_items": null,
            "bottom": null,
            "_model_module": "@jupyter-widgets/base",
            "top": null,
            "grid_column": null,
            "overflow_y": null,
            "overflow_x": null,
            "grid_auto_flow": null,
            "grid_area": null,
            "grid_template_columns": null,
            "flex": null,
            "_model_name": "LayoutModel",
            "justify_items": null,
            "grid_row": null,
            "max_height": null,
            "align_content": null,
            "visibility": null,
            "align_self": null,
            "height": null,
            "min_height": null,
            "padding": null,
            "grid_auto_rows": null,
            "grid_gap": null,
            "max_width": null,
            "order": null,
            "_view_module_version": "1.2.0",
            "grid_template_areas": null,
            "object_position": null,
            "object_fit": null,
            "grid_auto_columns": null,
            "margin": null,
            "display": null,
            "left": null
          }
        },
        "199b130b748849c4861ebf6ec6543c2c": {
          "model_module": "@jupyter-widgets/controls",
          "model_name": "DescriptionStyleModel",
          "state": {
            "_view_name": "StyleView",
            "_model_name": "DescriptionStyleModel",
            "description_width": "",
            "_view_module": "@jupyter-widgets/base",
            "_model_module_version": "1.5.0",
            "_view_count": null,
            "_view_module_version": "1.2.0",
            "_model_module": "@jupyter-widgets/controls"
          }
        },
        "9b5a220b71f74d4ca941f6bf41d6f6c9": {
          "model_module": "@jupyter-widgets/base",
          "model_name": "LayoutModel",
          "state": {
            "_view_name": "LayoutView",
            "grid_template_rows": null,
            "right": null,
            "justify_content": null,
            "_view_module": "@jupyter-widgets/base",
            "overflow": null,
            "_model_module_version": "1.2.0",
            "_view_count": null,
            "flex_flow": null,
            "width": null,
            "min_width": null,
            "border": null,
            "align_items": null,
            "bottom": null,
            "_model_module": "@jupyter-widgets/base",
            "top": null,
            "grid_column": null,
            "overflow_y": null,
            "overflow_x": null,
            "grid_auto_flow": null,
            "grid_area": null,
            "grid_template_columns": null,
            "flex": null,
            "_model_name": "LayoutModel",
            "justify_items": null,
            "grid_row": null,
            "max_height": null,
            "align_content": null,
            "visibility": null,
            "align_self": null,
            "height": null,
            "min_height": null,
            "padding": null,
            "grid_auto_rows": null,
            "grid_gap": null,
            "max_width": null,
            "order": null,
            "_view_module_version": "1.2.0",
            "grid_template_areas": null,
            "object_position": null,
            "object_fit": null,
            "grid_auto_columns": null,
            "margin": null,
            "display": null,
            "left": null
          }
        },
        "3cbfc558ab134fa6a90c05ed60a884c7": {
          "model_module": "@jupyter-widgets/base",
          "model_name": "LayoutModel",
          "state": {
            "_view_name": "LayoutView",
            "grid_template_rows": null,
            "right": null,
            "justify_content": null,
            "_view_module": "@jupyter-widgets/base",
            "overflow": null,
            "_model_module_version": "1.2.0",
            "_view_count": null,
            "flex_flow": null,
            "width": null,
            "min_width": null,
            "border": null,
            "align_items": null,
            "bottom": null,
            "_model_module": "@jupyter-widgets/base",
            "top": null,
            "grid_column": null,
            "overflow_y": null,
            "overflow_x": null,
            "grid_auto_flow": null,
            "grid_area": null,
            "grid_template_columns": null,
            "flex": null,
            "_model_name": "LayoutModel",
            "justify_items": null,
            "grid_row": null,
            "max_height": null,
            "align_content": null,
            "visibility": null,
            "align_self": null,
            "height": null,
            "min_height": null,
            "padding": null,
            "grid_auto_rows": null,
            "grid_gap": null,
            "max_width": null,
            "order": null,
            "_view_module_version": "1.2.0",
            "grid_template_areas": null,
            "object_position": null,
            "object_fit": null,
            "grid_auto_columns": null,
            "margin": null,
            "display": null,
            "left": null
          }
        }
      }
    }
  },
  "cells": [
    {
      "cell_type": "markdown",
      "metadata": {
        "id": "view-in-github",
        "colab_type": "text"
      },
      "source": [
        "<a href=\"https://colab.research.google.com/github/jono-vision/fastai_capclassifier/blob/main/bottle_cap_predict.ipynb\" target=\"_parent\"><img src=\"https://colab.research.google.com/assets/colab-badge.svg\" alt=\"Open In Colab\"/></a>"
      ]
    },
    {
      "cell_type": "code",
      "metadata": {
        "id": "MME3ITuHMu99"
      },
      "source": [
        "!pip install voila\n",
        "!jupyter serverextension enable voila --sys-prefix\n",
        "\n",
        "!pip install -Uqq fastbook\n",
        "import fastbook\n",
        "fastbook.setup_book()\n",
        "\n",
        "from fastbook import *\n",
        "from fastai.vision.widgets import *"
      ],
      "execution_count": null,
      "outputs": []
    },
    {
      "cell_type": "code",
      "metadata": {
        "id": "9CeJEpSTclKm"
      },
      "source": [
        "!pip install nbconvert>=6.0.0"
      ],
      "execution_count": 15,
      "outputs": []
    },
    {
      "cell_type": "code",
      "metadata": {
        "id": "T5Lu7tGUNy3u"
      },
      "source": [
        "from pathlib import Path\n",
        "path = Path.cwd()/'gdrive'/'My Drive'/'Colab Notebooks'"
      ],
      "execution_count": 16,
      "outputs": []
    },
    {
      "cell_type": "code",
      "metadata": {
        "id": "EUAh1wTzMvqH"
      },
      "source": [
        "learn_inf = load_learner(path/'bottle.pkl')"
      ],
      "execution_count": 17,
      "outputs": []
    },
    {
      "cell_type": "code",
      "metadata": {
        "id": "frT9qmHfZ_zq"
      },
      "source": [
        "out_pl = widgets.Output()\n",
        "btn_upload = widgets.FileUpload()\n",
        "btn_run = widgets.Button(description='Classify')\n",
        "lbl_pred = widgets.Label()"
      ],
      "execution_count": 27,
      "outputs": []
    },
    {
      "cell_type": "code",
      "metadata": {
        "id": "cAziPQg8aSFU"
      },
      "source": [
        "def on_click_classify(change):\n",
        "    img = PILImage.create(btn_upload.data[-1])\n",
        "    out_pl.clear_output()\n",
        "    with out_pl: display(img.to_thumb(128,128))\n",
        "    pred,pred_idx,probs = learn_inf.predict(img)\n",
        "    lbl_pred.value = f'Prediction: {pred}; Probability: {probs[pred_idx]:.04f}'\n",
        "\n",
        "btn_run.on_click(on_click_classify)"
      ],
      "execution_count": 28,
      "outputs": []
    },
    {
      "cell_type": "code",
      "metadata": {
        "id": "fs24S8vAajX0",
        "outputId": "e57d50d8-0b51-4541-a5ae-89ccb36a9837",
        "colab": {
          "base_uri": "https://localhost:8080/",
          "height": 241,
          "referenced_widgets": [
            "841191c5e6fd4f44abd143e538f456d5",
            "97325ee5e0cf48589468480ba7dc1791",
            "01fb88b5486845b29e8992017ee5ea1b",
            "2f277198b2a647b7aad40a7c367b989e",
            "d52d4d707e7a4c00b2150275e6d9004c",
            "4efc6a0f927f4d169d43d882ce350dbd",
            "c063ef9e534d49f383cee42e7fa18910",
            "2a9aa865c4d44059918c95e404371f70",
            "f6c1e457bfd4466da1de5e4c87fc8e23",
            "5e17b3908ff4444fb0417e8560ebb502",
            "fcd9c3d351634673b6266cc24469a94e",
            "d08257c790654a14a2b131b10c4343c5",
            "cdad1f499d1b44298b52319754a2f826",
            "199b130b748849c4861ebf6ec6543c2c",
            "9b5a220b71f74d4ca941f6bf41d6f6c9",
            "3cbfc558ab134fa6a90c05ed60a884c7"
          ]
        }
      },
      "source": [
        "VBox([widgets.Label('Select your cap'), \n",
        "      btn_upload, btn_run, out_pl, lbl_pred])"
      ],
      "execution_count": 29,
      "outputs": [
        {
          "output_type": "display_data",
          "data": {
            "application/vnd.jupyter.widget-view+json": {
              "model_id": "841191c5e6fd4f44abd143e538f456d5",
              "version_minor": 0,
              "version_major": 2
            },
            "text/plain": [
              "VBox(children=(Label(value='Select your cap'), FileUpload(value={}, description='Upload'), Button(description=…"
            ]
          },
          "metadata": {
            "tags": []
          }
        },
        {
          "output_type": "display_data",
          "data": {
            "text/html": [
              ""
            ],
            "text/plain": [
              "<IPython.core.display.HTML object>"
            ]
          },
          "metadata": {
            "tags": []
          }
        }
      ]
    }
  ]
}